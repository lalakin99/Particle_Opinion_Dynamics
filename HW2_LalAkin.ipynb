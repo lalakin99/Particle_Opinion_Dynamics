{
  "nbformat": 4,
  "nbformat_minor": 0,
  "metadata": {
    "colab": {
      "provenance": [],
      "authorship_tag": "ABX9TyMPHmxN/UFTG+1rcTgmZSfM",
      "include_colab_link": true
    },
    "kernelspec": {
      "name": "python3",
      "display_name": "Python 3"
    },
    "language_info": {
      "name": "python"
    }
  },
  "cells": [
    {
      "cell_type": "markdown",
      "metadata": {
        "id": "view-in-github",
        "colab_type": "text"
      },
      "source": [
        "<a href=\"https://colab.research.google.com/github/lalakin99/Particle_Opinion_Dynamics/blob/main/HW2_LalAkin.ipynb\" target=\"_parent\"><img src=\"https://colab.research.google.com/assets/colab-badge.svg\" alt=\"Open In Colab\"/></a>"
      ]
    },
    {
      "cell_type": "markdown",
      "source": [
        "# *HW 2 NETWORK DYNAMICS AND LEARNING*"
      ],
      "metadata": {
        "id": "ieUYSgn5IawK"
      }
    },
    {
      "cell_type": "code",
      "source": [
        "from google.colab import drive\n",
        "drive.mount('/content/drive')"
      ],
      "metadata": {
        "id": "6lr3oHkhbZvJ",
        "colab": {
          "base_uri": "https://localhost:8080/"
        },
        "outputId": "8605339d-39b4-4d22-bfb8-9270051e1c6e"
      },
      "execution_count": null,
      "outputs": [
        {
          "output_type": "stream",
          "name": "stdout",
          "text": [
            "Mounted at /content/drive\n"
          ]
        }
      ]
    },
    {
      "cell_type": "code",
      "execution_count": null,
      "metadata": {
        "id": "0hnTOmybbRUt",
        "colab": {
          "base_uri": "https://localhost:8080/"
        },
        "outputId": "c9a0e76e-e163-4030-8a41-0ec4ea6a1c01"
      },
      "outputs": [
        {
          "output_type": "stream",
          "name": "stdout",
          "text": [
            "/content/drive/MyDrive/NDL_LABS\n"
          ]
        }
      ],
      "source": [
        "%cd /content/drive/MyDrive/NDL_LABS"
      ]
    },
    {
      "cell_type": "code",
      "source": [
        "import numpy as np\n",
        "import scipy as scipy\n",
        "import networkx as nx\n",
        "import matplotlib.pyplot as plt\n",
        "%matplotlib inline\n",
        "import cvxpy as cp"
      ],
      "metadata": {
        "id": "TFqOwAuNbbUL"
      },
      "execution_count": null,
      "outputs": []
    },
    {
      "cell_type": "markdown",
      "source": [
        "# Exercise 1"
      ],
      "metadata": {
        "id": "R0v2te1VIaWx"
      }
    },
    {
      "cell_type": "markdown",
      "source": [
        "For the first question, I first constructed the Lambda matrix(transition rates) for the continious time random walk in the given network.  I also computed the fraction of time that will be spent in each node."
      ],
      "metadata": {
        "id": "0J7iE6U_s8ZA"
      }
    },
    {
      "cell_type": "code",
      "source": [
        "Lambda = [\n",
        "[0, 2/5, 1/5, 0, 0],\n",
        "[0, 0, 3/4, 1/4, 0],\n",
        "[1/2, 0, 0, 1/3, 0],\n",
        "[0, 0, 1/3, 0, 2/3],\n",
        "[0, 1/3, 0, 1/3, 0]]\n",
        "\n",
        "w = np.sum(Lambda, axis=1)\n",
        "w_star = np.max(w)\n",
        "P_bar = Lambda/w_star #computing the normalized weight matrix\n",
        "P_bar = P_bar + np.diag(np.ones(len(w))-np.sum(P_bar,axis=1))\n",
        "\n",
        "values,vectors = np.linalg.eig(P_bar.T)\n",
        "index = np.argmax(values.real)\n",
        "pi_bar = vectors[:,index].real\n",
        "pi_bar = pi_bar/np.sum(pi_bar)\n",
        "print(\"pi_bar=\", pi_bar)\n",
        "\n",
        "nstates = len(pi_bar)"
      ],
      "metadata": {
        "colab": {
          "base_uri": "https://localhost:8080/"
        },
        "id": "gcBmuu0pucsU",
        "outputId": "64931ee1-9b30-4bec-b605-f50f48ed74f0"
      },
      "execution_count": null,
      "outputs": [
        {
          "output_type": "stream",
          "name": "stdout",
          "text": [
            "pi_bar= [0.2173913  0.14906832 0.26086957 0.1863354  0.1863354 ]\n"
          ]
        }
      ]
    },
    {
      "cell_type": "markdown",
      "source": [
        "# 1.a"
      ],
      "metadata": {
        "id": "ULIIbEMLSIIq"
      }
    },
    {
      "cell_type": "code",
      "source": [
        "iters = 1000 #must be large enough\n",
        "return_time = np.zeros(iters)\n",
        "for epoch in range(iters):\n",
        "    pos = [2] #starting from node b, the index will be 2\n",
        "    t_times = [0] #this will store the jump times\n",
        "    t_next = -np.log(np.random.rand())/w_star #the next ticking time is defined by the global poisson clock\n",
        "    i = 1\n",
        "    while True:\n",
        "        pos.append(np.random.choice(nstates, p=P_bar[pos[i-1],:]))\n",
        "        t_times.append(t_times[i-1] + t_next) #to move from the last node to the next one we jump, and store their times in t_times\n",
        "        t_next = -np.log(np.random.rand())/w_star\n",
        "        if pos[i] == 2: #this is set to 2 because we want to calculate the return time back to node b\n",
        "            break\n",
        "        else:\n",
        "            i += 1\n",
        "\n",
        "    return_time[epoch] = t_times[i]\n",
        "\n",
        "print('Average return time of node  b =', np.average(return_time))"
      ],
      "metadata": {
        "id": "2ZTDFK-ASUb1",
        "colab": {
          "base_uri": "https://localhost:8080/"
        },
        "outputId": "0aee7fc9-23a4-4694-f559-e735956e01b2"
      },
      "execution_count": null,
      "outputs": [
        {
          "output_type": "stream",
          "name": "stdout",
          "text": [
            "Average return time of node  b = 3.7916666825333496\n"
          ]
        }
      ]
    },
    {
      "cell_type": "markdown",
      "source": [
        "# 1.b"
      ],
      "metadata": {
        "id": "zY8Ys4AeX-S6"
      }
    },
    {
      "cell_type": "code",
      "source": [
        "print('Theoretical computation of the average time it takes to come back to node b:', 1 / (w[2] * pi_bar[2])) #the formula given in the lectures to compute return time"
      ],
      "metadata": {
        "id": "CbwxoSGxXiKx",
        "colab": {
          "base_uri": "https://localhost:8080/"
        },
        "outputId": "79ca5cef-4fd8-40f9-a325-df4c1df735e5"
      },
      "execution_count": null,
      "outputs": [
        {
          "output_type": "stream",
          "name": "stdout",
          "text": [
            "Theoretical computation of the average time it takes to come back to node b: 4.599999999999998\n"
          ]
        }
      ]
    },
    {
      "cell_type": "markdown",
      "source": [
        "# 1.c"
      ],
      "metadata": {
        "id": "weZ-53ZPYAEU"
      }
    },
    {
      "cell_type": "code",
      "source": [
        "iterss = 1000\n",
        "hitting_time = np.zeros(iterss)\n",
        "\n",
        "for epoch in range(iterss):\n",
        "    at = [0] #we start this time from node o\n",
        "    t_time = [0]\n",
        "    t_next = -np.log(np.random.rand())/w_star #formula to compute the next ticking time\n",
        "\n",
        "    i = 1\n",
        "    while True:\n",
        "        at.append(np.random.choice(nstates, p=P_bar[at[i-1],:]))\n",
        "        t_time.append(t_time[i-1] + t_next)\n",
        "        # compute the waiting time to the next transition\n",
        "        t_next = -np.log(np.random.rand())/w_star\n",
        "        if at[i] == 4: #we end this while true condition when the d node is reached\n",
        "            break\n",
        "        else:\n",
        "            i += 1\n",
        "\n",
        "    hitting_time[epoch] = t_time[i]\n",
        "\n",
        "print('Average hitting time of node o to node d:', np.average(hitting_time))"
      ],
      "metadata": {
        "id": "JtDxbGoSXkyL",
        "colab": {
          "base_uri": "https://localhost:8080/"
        },
        "outputId": "72f9cee4-5320-4cba-ef81-70e512ae184d"
      },
      "execution_count": null,
      "outputs": [
        {
          "output_type": "stream",
          "name": "stdout",
          "text": [
            "Average hitting time of node o to node d: 11.079065111716563\n"
          ]
        }
      ]
    },
    {
      "cell_type": "markdown",
      "source": [
        "# 1.d"
      ],
      "metadata": {
        "id": "mvgYUuixYGbE"
      }
    },
    {
      "cell_type": "code",
      "source": [
        "S = [4] # referring to node d\n",
        "R = [node for node in range(nstates) if node not in S] #setting the set R which is the remaining nodes\n",
        "\n",
        "D = np.diag(w)\n",
        "P = np.linalg.inv(D) @ Lambda\n",
        "P_bar = P[np.ix_(R, R)]\n",
        "x_bar = np.linalg.solve((np.identity(nstates-1) - P_bar), 1/w[np.ix_(R)])\n",
        "\n",
        "print(\"Computed hitting time from node o to node d:\", x_bar[0])"
      ],
      "metadata": {
        "id": "Eh9d7yMAXobr",
        "colab": {
          "base_uri": "https://localhost:8080/"
        },
        "outputId": "4ee3c702-6ecc-4973-d3fc-e3136468c1b2"
      },
      "execution_count": null,
      "outputs": [
        {
          "output_type": "stream",
          "name": "stdout",
          "text": [
            "Computed hitting time from node o to node d: 10.766666666666666\n"
          ]
        }
      ]
    },
    {
      "cell_type": "markdown",
      "source": [
        "# 1.e"
      ],
      "metadata": {
        "id": "MNI3rh5-YI87"
      }
    },
    {
      "cell_type": "code",
      "source": [
        "D = np.diag(w)\n",
        "P = np.linalg.inv(D) @ Lambda"
      ],
      "metadata": {
        "id": "I1mfw3LYYPBH"
      },
      "execution_count": null,
      "outputs": []
    },
    {
      "cell_type": "code",
      "source": [
        "G = nx.DiGraph()\n",
        "G.add_edges_from([(0,1),(0,2),(1,2),(1,3),(2,0),(2,3),(3,2),(4,1),(4,3),(3,4)])\n",
        "n_nodes = len(G)\n",
        "\n",
        "pos = {0:[-1,0], 1:[0,1], 2:[0,-1], 4:[1,1],3:[1,-1]}\n",
        "nx.draw(G, pos, with_labels=True)"
      ],
      "metadata": {
        "id": "s8RWcgslYSn0",
        "colab": {
          "base_uri": "https://localhost:8080/",
          "height": 516
        },
        "outputId": "ce220d09-206f-426b-b564-b5aaf628bf48"
      },
      "execution_count": null,
      "outputs": [
        {
          "output_type": "display_data",
          "data": {
            "text/plain": [
              "<Figure size 640x480 with 1 Axes>"
            ],
            "image/png": "[encoded data removed]"
          },
          "metadata": {}
        }
      ]
    },
    {
      "cell_type": "code",
      "source": [
        "condensation_graph = nx.algorithms.components.condensation(G)\n",
        "nx.draw(condensation_graph)\n",
        "ques = nx.algorithms.dag.is_aperiodic(G)\n",
        "ques2 =nx.algorithms.is_strongly_connected(G)\n",
        "print(\"Is G Aperiodic? \",ques)\n",
        "print(\"Is G Strongly connected? \",ques2)"
      ],
      "metadata": {
        "id": "LtGr9eVvYbv8",
        "colab": {
          "base_uri": "https://localhost:8080/",
          "height": 551
        },
        "outputId": "6cd15dce-2d8d-4fff-ad5c-0c3ded5e2cf6"
      },
      "execution_count": null,
      "outputs": [
        {
          "output_type": "stream",
          "name": "stdout",
          "text": [
            "Is G Aperiodic?  True\n",
            "Is G Strongly connected?  True\n"
          ]
        },
        {
          "output_type": "display_data",
          "data": {
            "text/plain": [
              "<Figure size 640x480 with 1 Axes>"
            ],
            "image/png": "[encoded data removed]"
          },
          "metadata": {}
        }
      ]
    },
    {
      "cell_type": "code",
      "source": [
        "for iter in range(5):\n",
        "  x = np.random.rand(5)\n",
        "\n",
        "  for n in range(100):\n",
        "      x = P @ x\n",
        "  print(\"x(100):\", x)\n",
        "\n",
        "print()"
      ],
      "metadata": {
        "colab": {
          "base_uri": "https://localhost:8080/"
        },
        "id": "v-3Vk272uCLE",
        "outputId": "a465734b-f9e4-4cb7-e707-112843a8286e"
      },
      "execution_count": null,
      "outputs": [
        {
          "output_type": "stream",
          "name": "stdout",
          "text": [
            "x(100): [0.26357394 0.26357394 0.26357394 0.26357394 0.26357394]\n",
            "x(100): [0.54984659 0.54984659 0.54984659 0.54984659 0.54984659]\n",
            "x(100): [0.58008599 0.58008599 0.58008599 0.58008599 0.58008599]\n",
            "x(100): [0.50938184 0.50938184 0.50938184 0.50938184 0.50938184]\n",
            "x(100): [0.65046897 0.65046897 0.65046897 0.65046897 0.65046897]\n",
            "\n"
          ]
        }
      ]
    },
    {
      "cell_type": "code",
      "source": [
        "for n in range(1000):\n",
        "    x = P @ x\n",
        "print(\"x(1000):\", x)"
      ],
      "metadata": {
        "colab": {
          "base_uri": "https://localhost:8080/"
        },
        "id": "wvhXP11_uc4B",
        "outputId": "0b188700-149d-473b-cf1a-552797285e9a"
      },
      "execution_count": null,
      "outputs": [
        {
          "output_type": "stream",
          "name": "stdout",
          "text": [
            "x(1000): [0.64602333 0.64602333 0.64602333 0.64602333 0.64602333]\n"
          ]
        }
      ]
    },
    {
      "cell_type": "markdown",
      "source": [
        "# 1.f"
      ],
      "metadata": {
        "id": "ooeMz7qcYhGQ"
      }
    },
    {
      "cell_type": "code",
      "source": [
        "Lambda = [\n",
        "[0, 2/5, 1/5, 0, 0],\n",
        "[0, 0, 3/4, 1/4, 0],\n",
        "[1/2, 0, 0, 1/3, 0],\n",
        "[0, 0, 1/3, 0, 2/3],\n",
        "[0, 1/3, 0, 1/3, 0]]\n",
        "\n",
        "\n",
        "w = np.sum(Lambda, axis=1)\n",
        "D = np.diag(w)\n",
        "P = np.linalg.inv(D) @ Lambda"
      ],
      "metadata": {
        "id": "Jn01-LtqO3Ss"
      },
      "execution_count": null,
      "outputs": []
    },
    {
      "cell_type": "code",
      "source": [
        "for i in range(5):\n",
        "    x = np.random.rand(5)\n",
        "    print('x(0) =', x.round(2))\n",
        "\n",
        "    for j in range(100):\n",
        "        x = P @ x\n",
        "    print('x(100) =', x.round(2))\n",
        "    print()"
      ],
      "metadata": {
        "colab": {
          "base_uri": "https://localhost:8080/"
        },
        "id": "sMpSxrU4CYnX",
        "outputId": "18f854f1-e03c-4833-bc4d-2ef2b99d408b"
      },
      "execution_count": null,
      "outputs": [
        {
          "output_type": "stream",
          "name": "stdout",
          "text": [
            "x(0) = [0.76 0.94 0.63 0.16 0.56]\n",
            "x(100) = [0.59 0.59 0.59 0.59 0.59]\n",
            "\n",
            "x(0) = [0.48 0.19 0.12 0.15 0.08]\n",
            "x(100) = [0.19 0.19 0.19 0.19 0.19]\n",
            "\n",
            "x(0) = [0.69 0.06 0.23 0.17 0.22]\n",
            "x(100) = [0.26 0.26 0.26 0.26 0.26]\n",
            "\n",
            "x(0) = [0.56 0.21 0.94 0.78 0.13]\n",
            "x(100) = [0.58 0.58 0.58 0.58 0.58]\n",
            "\n",
            "x(0) = [0.61 0.39 0.12 0.99 0.64]\n",
            "x(100) = [0.53 0.53 0.53 0.53 0.53]\n",
            "\n"
          ]
        }
      ]
    },
    {
      "cell_type": "code",
      "source": [
        "alfa_err = np.zeros(300)\n",
        "\n",
        "#running the simulation for 300 times\n",
        "for i in range(300): # .rand returns uniformly random and independent values\n",
        "    x = np.random.rand(5) #because we have 5 nodes\n",
        "    for n in range(5):\n",
        "        x = P @ x\n",
        "\n",
        "    alfa_err[i] = (1 - np.mean(x))*(1 - np.mean(x)) #calculation of the variance in form of the distance of each data point from the mean, squared\n",
        "\n",
        "print(\"Variance of the nodes:\", 7/5) #average variance of the system by Law of Large Numbers as the iterations of simulations approach a big n\n",
        "#(Var(o+a+b+c+d)=Var(o)+Var(a)+Var(b)+Var(c)+Var(d)=1+1+1+2+2=7 (these are random variables, and independent as said in lecture notes)\n",
        "#Since we simulate for 300 times it is large enough (>>30) we can say the variance will be Var(all)/n = 7/5 = 1.4)\n",
        "print(\"Variance of the consensus state:\", np.mean(alfa_err),\"\\n\")\n",
        "#to find the variance of the consensus, we have to divide the general variance by n"
      ],
      "metadata": {
        "colab": {
          "base_uri": "https://localhost:8080/"
        },
        "id": "VqziwK1vDYOL",
        "outputId": "c85e824f-ee61-4b39-e916-f9bcd4897d16"
      },
      "execution_count": null,
      "outputs": [
        {
          "output_type": "stream",
          "name": "stdout",
          "text": [
            "Variance of the node states: 1.4\n",
            "Variance of the consensus state: 0.2597437865869774 \n",
            "\n"
          ]
        }
      ]
    },
    {
      "cell_type": "markdown",
      "source": [
        "# 1.g"
      ],
      "metadata": {
        "id": "KV_dE0-mNL19"
      }
    },
    {
      "cell_type": "code",
      "source": [
        "G2 = G.copy()\n",
        "G2.remove_edges_from([(4, 1), (4, 3)])\n",
        "nx.draw(G2, pos, with_labels=True)"
      ],
      "metadata": {
        "colab": {
          "base_uri": "https://localhost:8080/",
          "height": 516
        },
        "id": "wemTQxQUu6oQ",
        "outputId": "baff887c-e6ae-43ff-bb9f-75080289b097"
      },
      "execution_count": null,
      "outputs": [
        {
          "output_type": "display_data",
          "data": {
            "text/plain": [
              "<Figure size 640x480 with 1 Axes>"
            ],
            "image/png": "[encoded data removed]"
          },
          "metadata": {}
        }
      ]
    },
    {
      "cell_type": "code",
      "source": [
        "condensation_graphhh = nx.algorithms.condensation(G2)\n",
        "nx.draw(condensation_graphhh,with_labels=True)\n",
        "quesss = nx.algorithms.is_aperiodic(G2)\n",
        "print(\"Is G Aperiodic? \",quesss)"
      ],
      "metadata": {
        "colab": {
          "base_uri": "https://localhost:8080/",
          "height": 533
        },
        "id": "rDtcJR6ZLk6x",
        "outputId": "e8995da4-0ae7-4527-b2eb-baf767811237"
      },
      "execution_count": null,
      "outputs": [
        {
          "output_type": "stream",
          "name": "stdout",
          "text": [
            "Is G Aperiodic?  True\n"
          ]
        },
        {
          "output_type": "display_data",
          "data": {
            "text/plain": [
              "<Figure size 640x480 with 1 Axes>"
            ],
            "image/png": "[encoded data removed]"
          },
          "metadata": {}
        }
      ]
    },
    {
      "cell_type": "code",
      "source": [
        "condensation_graphhh.graph['mapping']"
      ],
      "metadata": {
        "colab": {
          "base_uri": "https://localhost:8080/"
        },
        "id": "_H8k__JjVUmt",
        "outputId": "fdd14687-f721-45cd-eeea-d93764a5001d"
      },
      "execution_count": null,
      "outputs": [
        {
          "output_type": "execute_result",
          "data": {
            "text/plain": [
              "{4: 0, 0: 1, 1: 1, 2: 1, 3: 1}"
            ]
          },
          "metadata": {},
          "execution_count": 11
        }
      ]
    },
    {
      "cell_type": "code",
      "source": [
        "Lambda_g = [\n",
        "[0, 2/5, 1/5, 0, 0],\n",
        "[0, 0, 3/4, 1/4, 0],\n",
        "[1/2, 0, 0, 1/3, 0],\n",
        "[0, 0, 1/3, 0, 2/3],\n",
        "[0, 0, 0, 0, 1]]\n",
        "\n",
        "w = np.sum(Lambda_g, axis=1)\n",
        "w_star = np.max(w)\n",
        "P_bar = Lambda_g/w_star #computing the normalized weight matrix\n",
        "P_bar = P_bar + np.diag(np.ones(len(w))-np.sum(P_bar,axis=1))\n",
        "\n",
        "values,vectors = np.linalg.eig(P_bar.T)\n",
        "index = np.argmax(values.real)\n",
        "pi_bar = vectors[:,index].real\n",
        "pi_bar = pi_bar/np.sum(pi_bar) #computing the invariant distrbutions of each node\n",
        "print(\"pi_bar=\", pi_bar)\n",
        "\n",
        "nstates = len(pi_bar)"
      ],
      "metadata": {
        "colab": {
          "base_uri": "https://localhost:8080/"
        },
        "id": "k7qNdTyWvHzR",
        "outputId": "9c8a7ee4-08f8-457b-bca3-fc2c488dff6f"
      },
      "execution_count": null,
      "outputs": [
        {
          "output_type": "stream",
          "name": "stdout",
          "text": [
            "pi_bar= [0. 0. 0. 0. 1.]\n"
          ]
        }
      ]
    },
    {
      "cell_type": "code",
      "source": [
        "D = np.diag(w)\n",
        "P = np.linalg.inv(D) @ Lambda_g"
      ],
      "metadata": {
        "id": "1j7ADQUxO6_r"
      },
      "execution_count": null,
      "outputs": []
    },
    {
      "cell_type": "code",
      "source": [
        "for i in range(5):\n",
        "    x = np.random.rand(5)\n",
        "    print('x(0):', x)\n",
        "\n",
        "    for f in range(100):\n",
        "        x = P @ x\n",
        "    print('x(100):', x)\n",
        "    print()"
      ],
      "metadata": {
        "colab": {
          "base_uri": "https://localhost:8080/"
        },
        "id": "ha-Codn1vWxZ",
        "outputId": "0c60ccfb-266f-42a7-cadb-e8b6bf6c8b85"
      },
      "execution_count": null,
      "outputs": [
        {
          "output_type": "stream",
          "name": "stdout",
          "text": [
            "x(0): [0.09542885 0.40074667 0.07698435 0.80426287 0.85312611]\n",
            "x(100): [0.85312601 0.85312602 0.85312602 0.85312608 0.85312611]\n",
            "\n",
            "x(0): [0.0417767  0.6848813  0.15306808 0.3877935  0.64912592]\n",
            "x(100): [0.64912585 0.64912586 0.64912586 0.6491259  0.64912592]\n",
            "\n",
            "x(0): [0.09204415 0.62284914 0.25539777 0.90563579 0.59719422]\n",
            "x(100): [0.59719418 0.59719419 0.59719419 0.59719421 0.59719422]\n",
            "\n",
            "x(0): [0.47237394 0.3551823  0.68437145 0.18976488 0.15933706]\n",
            "x(100): [0.15933711 0.15933711 0.15933711 0.15933708 0.15933706]\n",
            "\n",
            "x(0): [0.96876474 0.763366   0.17154695 0.78136017 0.5075661 ]\n",
            "x(100): [0.50756612 0.50756612 0.50756612 0.50756611 0.5075661 ]\n",
            "\n"
          ]
        }
      ]
    },
    {
      "cell_type": "markdown",
      "source": [
        "Since there is one sink in the condensation graph we reach a consensus value only dependent on the x(0) value of node d."
      ],
      "metadata": {
        "id": "dewNta6VM92J"
      }
    },
    {
      "cell_type": "code",
      "source": [
        "alfa_err = np.zeros(200) #running the simulation for 200 times\n",
        "\n",
        "for i in range(200): # .rand returns uniformly random values in [0,1], thus mean of uniform dist = 1/2\n",
        "    x = np.random.rand(5) #because we have 5 nodes\n",
        "    for n in range(5):\n",
        "        x = P @ x\n",
        "    alfa_err[i] = (1/2 - np.mean(x))*(1/2 - np.mean(x)) #calculation of the variance in form of the distance of each data point from the mean, squared\n",
        "\n",
        "print(\"Variance of the node states:\", 1/12) #variance of uniform dist. hence each node\n",
        "print(\"Variance of the consensus:\", np.mean(alfa_err), \"\\n\") #to find the variance of the consensus, we have to divide the general variance by n"
      ],
      "metadata": {
        "colab": {
          "base_uri": "https://localhost:8080/"
        },
        "id": "km8PmEoKxic0",
        "outputId": "d8fd9ea9-7563-4640-ad0c-0d2613a79662"
      },
      "execution_count": null,
      "outputs": [
        {
          "output_type": "stream",
          "name": "stdout",
          "text": [
            "Variance of the node states: 0.08333333333333333\n",
            "Variance of the consensus: 0.0371572331285053 \n",
            "\n"
          ]
        }
      ]
    },
    {
      "cell_type": "markdown",
      "source": [
        "# 1.h"
      ],
      "metadata": {
        "id": "5SOPr7baNAU0"
      }
    },
    {
      "cell_type": "code",
      "source": [
        "G3 = G.copy()\n",
        "G3.remove_edges_from([(3,2),(4,1)])\n",
        "nx.draw(G3, pos, with_labels=True)"
      ],
      "metadata": {
        "colab": {
          "base_uri": "https://localhost:8080/",
          "height": 516
        },
        "id": "KF6_I0Tbu7EH",
        "outputId": "a5bba96f-4d1f-4c42-d004-af46de969614"
      },
      "execution_count": null,
      "outputs": [
        {
          "output_type": "display_data",
          "data": {
            "text/plain": [
              "<Figure size 640x480 with 1 Axes>"
            ],
            "image/png": "[encoded data removed]"
          },
          "metadata": {}
        }
      ]
    },
    {
      "cell_type": "code",
      "source": [
        "condensation_graph = nx.algorithms.components.condensation(G3)\n",
        "nx.draw(condensation_graph,with_labels=True)"
      ],
      "metadata": {
        "colab": {
          "base_uri": "https://localhost:8080/",
          "height": 516
        },
        "id": "kL0RyG4lNXe6",
        "outputId": "1ce69728-f2d8-4b52-9a10-949fcc0ce040"
      },
      "execution_count": null,
      "outputs": [
        {
          "output_type": "display_data",
          "data": {
            "text/plain": [
              "<Figure size 640x480 with 1 Axes>"
            ],
            "image/png": "[encoded data removed]"
          },
          "metadata": {}
        }
      ]
    },
    {
      "cell_type": "code",
      "source": [
        "quess = nx.algorithms.dag.is_aperiodic(G3)\n",
        "quess2 =nx.algorithms.is_strongly_connected(G3)\n",
        "print(\"Is G Aperiodic? \",quess)\n",
        "print(\"Is G Strongly connected? \",quess2)"
      ],
      "metadata": {
        "colab": {
          "base_uri": "https://localhost:8080/"
        },
        "id": "zou88j89zMEw",
        "outputId": "77d4ceac-151d-41d7-f7cd-e93cb28edb1b"
      },
      "execution_count": null,
      "outputs": [
        {
          "output_type": "stream",
          "name": "stdout",
          "text": [
            "Is G Aperiodic?  True\n",
            "Is G Strongly connected?  False\n"
          ]
        }
      ]
    },
    {
      "cell_type": "markdown",
      "source": [
        "This graph is not strongly connected. Since we have only one sink in the condensation graph, the consensus requirements are reached."
      ],
      "metadata": {
        "id": "gQqOr_AMLA5G"
      }
    },
    {
      "cell_type": "code",
      "source": [
        "Lambda_h = np.array([\n",
        "    [0, 2/5, 1/5, 0, 0],\n",
        "    [0, 0, 3/4, 1/4, 0],\n",
        "    [1/2, 0, 0, 1/3, 0],\n",
        "    [0, 0, 0, 0, 2/3],\n",
        "    [0, 0, 0, 1/3, 0]\n",
        "])\n",
        "\n",
        "degrees = np.sum(Lambda_h,axis=1)\n",
        "D = np.diag(degrees)\n",
        "P = np.linalg.inv(D) @ Lambda_h"
      ],
      "metadata": {
        "id": "lGmCSE_KNpxF"
      },
      "execution_count": null,
      "outputs": []
    },
    {
      "cell_type": "code",
      "source": [
        "values,vectors = np.linalg.eig(P.T)\n",
        "index = np.argmax(values.real)\n",
        "pi = vectors[:,index].real\n",
        "pi = pi/np.sum(pi)\n",
        "print(\"pi=\", pi.round(2))"
      ],
      "metadata": {
        "colab": {
          "base_uri": "https://localhost:8080/"
        },
        "id": "vF7byC8_Nx_E",
        "outputId": "9e20edd8-e8af-4f62-9e90-21e051fc79a9"
      },
      "execution_count": null,
      "outputs": [
        {
          "output_type": "stream",
          "name": "stdout",
          "text": [
            "pi= [-0.  -0.  -0.   0.5  0.5]\n"
          ]
        }
      ]
    },
    {
      "cell_type": "code",
      "source": [
        "for i in range(5):\n",
        "    x = np.random.rand(5)\n",
        "    print('x(i)', x)\n",
        "\n",
        "    for f in range(100):\n",
        "        x = P @ x\n",
        "    print('x(100) =', x)\n",
        "\n",
        "    x = P @ x\n",
        "    print('x(101) =', x)\n",
        "    print()"
      ],
      "metadata": {
        "colab": {
          "base_uri": "https://localhost:8080/"
        },
        "id": "gPlcmpJON8eZ",
        "outputId": "f9fbf49b-e38b-43c1-d38c-029b93e71510"
      },
      "execution_count": null,
      "outputs": [
        {
          "output_type": "stream",
          "name": "stdout",
          "text": [
            "x(i) [0.24446894 0.74588761 0.4696058  0.53988054 0.50415473]\n",
            "x(100) = [0.52364154 0.52364154 0.51389813 0.53988054 0.50415473]\n",
            "x(101) = [0.52039374 0.52039374 0.53013714 0.50415473 0.53988054]\n",
            "\n",
            "x(i) [0.53557593 0.70761981 0.18913833 0.24423612 0.26661545]\n",
            "x(100) = [0.25440854 0.25440854 0.26051199 0.24423612 0.26661545]\n",
            "x(101) = [0.25644303 0.25644303 0.25033957 0.26661545 0.24423612]\n",
            "\n",
            "x(i) [0.69442042 0.90289493 0.58188617 0.92973974 0.75278392]\n",
            "x(100) = [0.84930528 0.84930528 0.8010446  0.92973974 0.75278392]\n",
            "x(101) = [0.83321838 0.83321838 0.88147906 0.75278392 0.92973974]\n",
            "\n",
            "x(i) [0.48687058 0.29484984 0.84473423 0.93691699 0.53458962]\n",
            "x(100) = [0.75404092 0.75404092 0.64431527 0.93691699 0.53458962]\n",
            "x(101) = [0.7174657  0.7174657  0.82719135 0.53458962 0.93691699]\n",
            "\n",
            "x(i) [0.36042042 0.72224736 0.2655746  0.65665846 0.6845159 ]\n",
            "x(100) = [0.66932093 0.66932093 0.67691841 0.65665846 0.6845159 ]\n",
            "x(101) = [0.67185343 0.67185343 0.66425595 0.6845159  0.65665846]\n",
            "\n"
          ]
        }
      ]
    },
    {
      "cell_type": "markdown",
      "source": [
        "As it seems there is no consensus value, the first two nodes reach their own local agreement but the rest can't."
      ],
      "metadata": {
        "id": "zE30PxpZODHn"
      }
    },
    {
      "cell_type": "markdown",
      "source": [
        "# Exercise 2"
      ],
      "metadata": {
        "id": "uEL3LkkEYtV-"
      }
    },
    {
      "cell_type": "code",
      "source": [
        "Lambda_2 = [\n",
        "[0, 2/5, 1/5, 0, 0],\n",
        "[0, 0, 3/4, 1/4, 0],\n",
        "[1/2, 0, 0, 1/3, 0],\n",
        "[0, 0, 1/3, 0, 2/3],\n",
        "[0, 1/3, 0, 1/3, 0]]\n",
        "\n",
        "w = np.sum(Lambda_2, axis=1)\n",
        "w_star = np.max(w)\n",
        "P_bar = Lambda_2/w_star #computing the normalized weight matrix\n",
        "P_bar = P_bar + np.diag(np.ones(len(w))-np.sum(P_bar,axis=1))\n",
        "\n",
        "values,vectors = np.linalg.eig(P_bar.T)\n",
        "index = np.argmax(values.real)\n",
        "pi_bar = vectors[:,index].real\n",
        "pi_bar = pi_bar/np.sum(pi_bar)\n",
        "\n",
        "nstates = len(pi_bar)\n",
        "print(\"pi_bar:\", pi_bar)"
      ],
      "metadata": {
        "id": "2EPEH9l9Yykg",
        "colab": {
          "base_uri": "https://localhost:8080/"
        },
        "outputId": "1fea62e3-d6b8-4c83-f3b5-03dc4cf26866"
      },
      "execution_count": null,
      "outputs": [
        {
          "output_type": "stream",
          "name": "stdout",
          "text": [
            "pi_bar: [0.2173913  0.14906832 0.26086957 0.1863354  0.1863354 ]\n"
          ]
        }
      ]
    },
    {
      "cell_type": "markdown",
      "source": [
        "# 2.a"
      ],
      "metadata": {
        "id": "3CroNXJEY6E8"
      }
    },
    {
      "cell_type": "code",
      "source": [
        "n_particles = 100 #100 particles are in the network\n",
        "current_particles = np.array(range(n_particles)) #active particles will be the ones who are moving\n",
        "node_pos = np.array([2] * n_particles) #beginning from node b, the current position for the particles are kept here\n",
        "first_transition_times = np.zeros(n_particles)\n",
        "return_time = np.zeros(n_particles)\n",
        "ticks = [0]\n",
        "\n",
        "iteration_count = 1\n",
        "while current_particles.size > 0:\n",
        "\n",
        "    t_next = -np.log(np.random.rand())/100 #global poisson clock with rate = 100\n",
        "    ticks.append(t_next)\n",
        "\n",
        "    selected_particle = np.random.choice(range(n_particles)) #randomly choosing one particle with each tick\n",
        "\n",
        "    if selected_particle in current_particles:\n",
        "        node_pos[selected_particle] = np.random.choice(nstates, p=P_bar[node_pos[selected_particle],:]) #the selected particle to jump will go to the next node\n",
        "        if first_transition_times[selected_particle] == 0:\n",
        "            first_transition_times[selected_particle] = iteration_count\n",
        "\n",
        "        if node_pos[selected_particle] == 2: #stopping condition\n",
        "            return_time[selected_particle] = sum(ticks[int(first_transition_times[selected_particle]): -1])\n",
        "            current_particles = np.delete(current_particles, np.where(current_particles == selected_particle)) #when one node reaches the node b, it is no longer active\n",
        "\n",
        "    iteration_count += 1\n",
        "\n",
        "print('Average return time of node b:', np.average(return_time))"
      ],
      "metadata": {
        "colab": {
          "base_uri": "https://localhost:8080/"
        },
        "id": "1xlYD2c0RgAR",
        "outputId": "a20d4753-34b1-469e-c95d-746ecb1ede75"
      },
      "execution_count": null,
      "outputs": [
        {
          "output_type": "stream",
          "name": "stdout",
          "text": [
            "Average return time of node b: 3.2460060246527345\n"
          ]
        }
      ]
    },
    {
      "cell_type": "markdown",
      "source": [
        "# 2.b"
      ],
      "metadata": {
        "id": "tfnQ3hiXZBXM"
      }
    },
    {
      "cell_type": "code",
      "source": [
        "epochs = 10\n",
        "n_particles = 100\n",
        "n_time_units = 60\n",
        "results = np.zeros((epochs, nstates))\n",
        "\n",
        "for epoch in range(epochs):\n",
        "    p_nodes = [[0] * nstates]\n",
        "    p_nodes[0][0] = n_particles\n",
        "    transition_times = [0.0]\n",
        "\n",
        "    while transition_times[-1] <= 60.0:\n",
        "        t_next = -np.log(np.random.rand()) / n_particles\n",
        "        transition_times.append(transition_times[-1] + t_next)\n",
        "\n",
        "        p_jump = np.array(p_nodes[-1]) / n_particles\n",
        "        prev_node = np.random.choice(nstates, p=p_jump)\n",
        "        next_node = np.random.choice(nstates, p=P_bar[prev_node,:])\n",
        "\n",
        "        p_nodes.append(p_nodes[-1][:])\n",
        "\n",
        "        p_nodes[-1][prev_node] -= 1\n",
        "        p_nodes[-1][next_node] += 1\n",
        "\n",
        "    results[epoch, :] = p_nodes[-1][:]\n",
        "\n",
        "print('Average number of particles in each node in the end of 60 time units (normalized):', (np.average(results, axis=0) / n_particles)*100)"
      ],
      "metadata": {
        "id": "pAbC5wS5ZDSA",
        "colab": {
          "base_uri": "https://localhost:8080/"
        },
        "outputId": "5e6f6ad1-58c7-497a-c16d-8b58e72546b2"
      },
      "execution_count": null,
      "outputs": [
        {
          "output_type": "stream",
          "name": "stdout",
          "text": [
            "Average number of particles in each node in the end of 60 time units : [23.4 15.1 24.9 18.6 18. ]\n"
          ]
        }
      ]
    },
    {
      "cell_type": "code",
      "source": [
        "print(\"pi_bar:\", pi_bar)"
      ],
      "metadata": {
        "colab": {
          "base_uri": "https://localhost:8080/"
        },
        "id": "BeH4Q2WoVkbc",
        "outputId": "548a1b35-5edf-47e1-d128-9c414038ba61"
      },
      "execution_count": null,
      "outputs": [
        {
          "output_type": "stream",
          "name": "stdout",
          "text": [
            "pi_bar: [0.2173913  0.14906832 0.26086957 0.1863354  0.1863354 ]\n"
          ]
        }
      ]
    },
    {
      "cell_type": "code",
      "source": [
        "plt.figure(figsize=(4, 4))\n",
        "for node in range(nstates):\n",
        "    path = np.array(p_nodes)[:, node]\n",
        "    plt.plot(transition_times, path, label='Node {0:d}'.format(node))\n",
        "    plt.title('Trajectory of 100 particles for 60 time units')\n",
        "plt.legend()"
      ],
      "metadata": {
        "id": "56tJXie_ZGUJ",
        "colab": {
          "base_uri": "https://localhost:8080/",
          "height": 539
        },
        "outputId": "ef373a71-065b-45cf-ff2b-96e6c2217224"
      },
      "execution_count": null,
      "outputs": [
        {
          "output_type": "execute_result",
          "data": {
            "text/plain": [
              "<matplotlib.legend.Legend at 0x7c69263564d0>"
            ]
          },
          "metadata": {},
          "execution_count": 17
        },
        {
          "output_type": "display_data",
          "data": {
            "text/plain": [
              "<Figure size 600x600 with 1 Axes>"
            ],
            "image/png": "[encoded data removed]"
          },
          "metadata": {}
        }
      ]
    },
    {
      "cell_type": "markdown",
      "source": [
        "# Exercise 3"
      ],
      "metadata": {
        "id": "IT9_3Cw6ZNr5"
      }
    },
    {
      "cell_type": "code",
      "source": [
        "Lambda_3 = [ #changing the transition rate matrix from the first two exercises\n",
        "[0, 3/4, 3/4, 0, 0],\n",
        "[0, 0, 1/4, 1/4, 2/4],\n",
        "[0, 0, 0, 1, 0],\n",
        "[0, 0, 0, 0, 1],\n",
        "[0, 0, 0, 0, 1]] #a self loop in d since it has 2 incoming links we can also see this network has d, or node 4 as a stubborn node\n",
        "\n",
        "w = np.sum(Lambda_3, axis=1)\n",
        "w_star = np.max(w)\n",
        "P_bar = Lambda_3/w_star\n",
        "P_bar = P_bar + np.diag(np.ones(len(w))-np.sum(P_bar,axis=1))\n",
        "\n",
        "values,vectors = np.linalg.eig(P_bar.T)\n",
        "index = np.argmax(values.real)\n",
        "pi_bar = vectors[:,index].real\n",
        "pi_bar = pi_bar/np.sum(pi_bar)\n",
        "print(\"pi_bar=\", pi_bar)\n",
        "\n",
        "nstates = len(pi_bar)"
      ],
      "metadata": {
        "id": "Dv0KIRMEZRWq",
        "colab": {
          "base_uri": "https://localhost:8080/"
        },
        "outputId": "d865a05d-78d9-4f29-9747-bc73895cd445"
      },
      "execution_count": null,
      "outputs": [
        {
          "output_type": "stream",
          "name": "stdout",
          "text": [
            "pi_bar= [0. 0. 0. 0. 1.]\n"
          ]
        }
      ]
    },
    {
      "cell_type": "code",
      "source": [
        "G_3 = nx.DiGraph()\n",
        "G_3.add_edges_from([(0,1),(0,2),(1,2),(1,3),(1,4),(2,3),(3,4),(4,5)])\n",
        "n_nodes = len(G_3)\n",
        "\n",
        "pos = {0:[-1,0], 1:[0,1], 2:[0,-1], 4:[1,1],3:[1,-1],5:[2,1]}\n",
        "nx.draw(G_3, pos, with_labels=True)"
      ],
      "metadata": {
        "colab": {
          "base_uri": "https://localhost:8080/",
          "height": 516
        },
        "id": "YYkE9CqJXb3l",
        "outputId": "3b0f35f7-e347-41dc-f1f0-07b5d47afb7f"
      },
      "execution_count": null,
      "outputs": [
        {
          "output_type": "display_data",
          "data": {
            "text/plain": [
              "<Figure size 640x480 with 1 Axes>"
            ],
            "image/png": "[encoded data removed]"
          },
          "metadata": {}
        }
      ]
    },
    {
      "cell_type": "code",
      "source": [
        "question = nx.algorithms.dag.is_aperiodic(G_3)\n",
        "question2 =nx.algorithms.is_strongly_connected(G_3)\n",
        "print(\"Is G Aperiodic? \",question)\n",
        "print(\"Is G Strongly connected? \",question2)"
      ],
      "metadata": {
        "colab": {
          "base_uri": "https://localhost:8080/"
        },
        "id": "gaLrvAg4ZABI",
        "outputId": "9abd63cd-4ede-4648-fd81-bec404f06f2f"
      },
      "execution_count": null,
      "outputs": [
        {
          "output_type": "stream",
          "name": "stdout",
          "text": [
            "Is G Aperiodic?  True\n",
            "Is G Strongly connected?  False\n"
          ]
        }
      ]
    }
  ]
}